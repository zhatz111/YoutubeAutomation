{
 "cells": [
  {
   "cell_type": "code",
   "execution_count": 7,
   "metadata": {},
   "outputs": [
    {
     "data": {
      "text/plain": [
       "'7314247982776470816'"
      ]
     },
     "execution_count": 7,
     "metadata": {},
     "output_type": "execute_result"
    }
   ],
   "source": [
    "url = \"https://www.tiktok.com/@monkey.noibo/video/7314247982776470816\"\n",
    "url.rsplit('/', maxsplit=1)[-1]"
   ]
  },
  {
   "cell_type": "code",
   "execution_count": 10,
   "metadata": {},
   "outputs": [],
   "source": [
    "import os, glob"
   ]
  },
  {
   "cell_type": "code",
   "execution_count": 14,
   "metadata": {},
   "outputs": [],
   "source": [
    "def get_last_filename_and_rename(save_folder, new_filename):\n",
    "    \"\"\"_summary_\n",
    "\n",
    "    Args:\n",
    "        save_folder (_type_): _description_\n",
    "        new_filename (_type_): _description_\n",
    "\n",
    "    Returns:\n",
    "        _type_: _description_\n",
    "    \"\"\"\n",
    "    # find the most recent file in the dir\n",
    "    files = glob.glob(save_folder + '/*')\n",
    "    max_file = max(files, key=os.path.getctime)\n",
    "\n",
    "\n",
    "    filename = max_file.rsplit(\"\\\\\")[-1].split(\".\")[0]\n",
    "    new_path = max_file.replace(filename, new_filename)\n",
    "    os.rename(max_file, new_path)\n",
    "    return new_path"
   ]
  },
  {
   "cell_type": "code",
   "execution_count": 25,
   "metadata": {},
   "outputs": [],
   "source": [
    "url = \"https://www.tiktok.com/@monkey.noibo/video/7314247982776470816\"\n",
    "vid_num = url.rsplit(\"/\", maxsplit=1)[-1]\n",
    "creator = url.split(\"/\")[-3][1:]\n",
    "filename = f\"{creator}-{vid_num}\"\n",
    "DOWNLOAD_DIR = \"C:/Users/zhatz/Documents/GitHub/YoutubeAutomation/Videos\""
   ]
  },
  {
   "cell_type": "code",
   "execution_count": 26,
   "metadata": {},
   "outputs": [
    {
     "data": {
      "text/plain": [
       "'monkey.noibo-7314247982776470816'"
      ]
     },
     "execution_count": 26,
     "metadata": {},
     "output_type": "execute_result"
    }
   ],
   "source": [
    "filename"
   ]
  },
  {
   "cell_type": "code",
   "execution_count": 27,
   "metadata": {},
   "outputs": [
    {
     "name": "stdout",
     "output_type": "stream",
     "text": [
      "Renamed 'C:/Users/zhatz/Documents/GitHub/YoutubeAutomation/Videos\\monkey.noibo-7314247982776470816.mp4' to 'C:/Users/zhatz/Documents/GitHub/YoutubeAutomation/Videos/monkey.noibo-7314247982776470816.mp4'\n"
     ]
    }
   ],
   "source": [
    "import os\n",
    "import glob\n",
    "\n",
    "def rename_most_recent_file(directory, new_name):\n",
    "    # Ensure the directory ends with a slash\n",
    "    if not directory.endswith('/'):\n",
    "        directory += '/'\n",
    "\n",
    "    # List all files in the directory\n",
    "    files = glob.glob(directory + '*')\n",
    "    \n",
    "    # Filter out directories, only keep files\n",
    "    files = [f for f in files if os.path.isfile(f)]\n",
    "    \n",
    "    if not files:\n",
    "        print(\"No files found in the directory.\")\n",
    "        return\n",
    "\n",
    "    # Sort files by modification time in descending order\n",
    "    files.sort(key=os.path.getmtime, reverse=True)\n",
    "\n",
    "    # Get the most recent file\n",
    "    most_recent_file = files[0]\n",
    "\n",
    "    # Extract the extension from the most recent file\n",
    "    _, file_extension = os.path.splitext(most_recent_file)\n",
    "\n",
    "    # Create new file path with the same extension\n",
    "    new_file_path = os.path.join(directory, new_name + file_extension)\n",
    "\n",
    "    # Rename the file\n",
    "    os.rename(most_recent_file, new_file_path)\n",
    "    print(f\"Renamed '{most_recent_file}' to '{new_file_path}'\")\n",
    "\n",
    "# Example usage\n",
    "rename_most_recent_file(DOWNLOAD_DIR, filename)\n"
   ]
  },
  {
   "cell_type": "code",
   "execution_count": 35,
   "metadata": {},
   "outputs": [
    {
     "data": {
      "text/plain": [
       "'monkey.noibo-7314247982776470816.mp4'"
      ]
     },
     "execution_count": 35,
     "metadata": {},
     "output_type": "execute_result"
    }
   ],
   "source": [
    "test = r\"C:\\Users\\zhatz\\Documents\\GitHub\\YoutubeAutomation\\Videos\\monkey.noibo-7314247982776470816.mp4\"\n",
    "test.split(\"\\\\\")[-1]"
   ]
  },
  {
   "cell_type": "code",
   "execution_count": null,
   "metadata": {},
   "outputs": [],
   "source": []
  }
 ],
 "metadata": {
  "kernelspec": {
   "display_name": ".venv",
   "language": "python",
   "name": "python3"
  },
  "language_info": {
   "codemirror_mode": {
    "name": "ipython",
    "version": 3
   },
   "file_extension": ".py",
   "mimetype": "text/x-python",
   "name": "python",
   "nbconvert_exporter": "python",
   "pygments_lexer": "ipython3",
   "version": "3.11.1"
  }
 },
 "nbformat": 4,
 "nbformat_minor": 2
}
