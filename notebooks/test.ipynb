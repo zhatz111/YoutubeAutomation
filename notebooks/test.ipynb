{
 "cells": [
  {
   "cell_type": "code",
   "execution_count": 6,
   "metadata": {},
   "outputs": [
    {
     "name": "stdout",
     "output_type": "stream",
     "text": [
      "768185056889-ksviobt3tr6c38d416k0290s51j2mh05.apps.googleusercontent.com\n"
     ]
    }
   ],
   "source": [
    "import json\n",
    "\n",
    "# Opening JSON file\n",
    "f = open(r\"C:\\Users\\zhatz\\Documents\\GitHub\\YoutubeAutomation\\data\\video_upload_metadata.json\")\n",
    "video_args = json.load(f)\n",
    "# parse x:\n",
    "\n",
    "\n",
    "# the result is a Python dictionary:\n",
    "print(y[\"client_id\"])"
   ]
  },
  {
   "cell_type": "code",
   "execution_count": 4,
   "metadata": {},
   "outputs": [
    {
     "data": {
      "text/plain": [
       "False"
      ]
     },
     "execution_count": 4,
     "metadata": {},
     "output_type": "execute_result"
    }
   ],
   "source": [
    "from pathlib import Path, PosixPath, WindowsPath\n",
    "test = Path.cwd().parent\n",
    "isinstance(test, WindowsPath)"
   ]
  },
  {
   "cell_type": "code",
   "execution_count": 14,
   "metadata": {},
   "outputs": [
    {
     "data": {
      "text/plain": [
       "['/Users/zachhatzenbeller/Documents/GitHub/YoutubeAutomation/Videos/VEED_Perfect rack #skills #funnyvideos #8ballpool #satisfying #trick #billiards  (2).mp4',\n",
       " '/Users/zachhatzenbeller/Documents/GitHub/YoutubeAutomation/Videos/VEED_Perfect rack #skills #funnyvideos #8ballpool #satisfying #trick #billiards  (3).mp4',\n",
       " '/Users/zachhatzenbeller/Documents/GitHub/YoutubeAutomation/Videos/VEED_Perfect rack #skills #funnyvideos #8ballpool #satisfying #trick #billiards .mp4',\n",
       " '/Users/zachhatzenbeller/Documents/GitHub/YoutubeAutomation/Videos/VEED_Perfect rack #skills #funnyvideos #8ballpool #satisfying #trick #billiards  (1).mp4']"
      ]
     },
     "execution_count": 14,
     "metadata": {},
     "output_type": "execute_result"
    }
   ],
   "source": [
    "import os\n",
    "import glob\n",
    "from pathlib import Path\n",
    "parent_dir = Path.cwd().parent\n",
    "test_path = parent_dir / \"Videos\"\n",
    "files = glob.glob(str(test_path) + '/*')\n",
    "dir = os.listdir(\"/Users/zachhatzenbeller/Documents/GitHub/YoutubeAutomation/Videos\")\n",
    "# if \"mr.memes088-7281709837354814753.mp4\" in dir:\n",
    "#     print(\"True\")\n",
    "files"
   ]
  },
  {
   "cell_type": "code",
   "execution_count": 7,
   "metadata": {},
   "outputs": [
    {
     "data": {
      "text/plain": [
       "PosixPath('/Users/zachhatzenbeller/Documents/GitHub/YoutubeAutomation')"
      ]
     },
     "execution_count": 7,
     "metadata": {},
     "output_type": "execute_result"
    }
   ],
   "source": [
    "from pathlib import Path\n",
    "parent_dir = Path.cwd().parent\n",
    "test_path = parent_dir / \"text/video_script.txt\"\n",
    "parent_dir"
   ]
  },
  {
   "cell_type": "code",
   "execution_count": 18,
   "metadata": {},
   "outputs": [
    {
     "data": {
      "text/plain": [
       "'tiktok'"
      ]
     },
     "execution_count": 18,
     "metadata": {},
     "output_type": "execute_result"
    }
   ],
   "source": [
    "url = \"https://www.tiktok.com/@genipool14/video/7282364795297254657\"\n",
    "test = url.split(\"/\")\n",
    "link = test[2].split(\".\")\n",
    "link[1]"
   ]
  },
  {
   "cell_type": "code",
   "execution_count": null,
   "metadata": {},
   "outputs": [],
   "source": [
    "//*[@id=\"video-downloader-app\"]/div[1]/form/button\n",
    "https://www.instagram.com/reel/C1LT3GmBBPX/?utm_source=ig_web_copy_link&igsh=MzRlODBiNWFlZA=="
   ]
  }
 ],
 "metadata": {
  "kernelspec": {
   "display_name": ".venv",
   "language": "python",
   "name": "python3"
  },
  "language_info": {
   "codemirror_mode": {
    "name": "ipython",
    "version": 3
   },
   "file_extension": ".py",
   "mimetype": "text/x-python",
   "name": "python",
   "nbconvert_exporter": "python",
   "pygments_lexer": "ipython3",
   "version": "3.11.4"
  }
 },
 "nbformat": 4,
 "nbformat_minor": 2
}
