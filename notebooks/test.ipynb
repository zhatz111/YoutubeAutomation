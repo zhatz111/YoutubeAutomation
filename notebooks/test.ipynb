{
 "cells": [
  {
   "cell_type": "code",
   "execution_count": 6,
   "metadata": {},
   "outputs": [
    {
     "name": "stdout",
     "output_type": "stream",
     "text": [
      "768185056889-ksviobt3tr6c38d416k0290s51j2mh05.apps.googleusercontent.com\n"
     ]
    }
   ],
   "source": [
    "import json\n",
    "\n",
    "# Opening JSON file\n",
    "f = open(r\"C:\\Users\\zhatz\\Documents\\GitHub\\YoutubeAutomation\\data\\video_upload_metadata.json\")\n",
    "video_args = json.load(f)\n",
    "# parse x:\n",
    "\n",
    "\n",
    "# the result is a Python dictionary:\n",
    "print(y[\"client_id\"])"
   ]
  },
  {
   "cell_type": "code",
   "execution_count": 5,
   "metadata": {},
   "outputs": [
    {
     "data": {
      "text/plain": [
       "WindowsPath('c:/Users/zhatz/Documents/GitHub/YoutubeAutomation')"
      ]
     },
     "execution_count": 5,
     "metadata": {},
     "output_type": "execute_result"
    }
   ],
   "source": [
    "from pathlib import Path\n",
    "Path.cwd().parent"
   ]
  },
  {
   "cell_type": "code",
   "execution_count": 6,
   "metadata": {},
   "outputs": [
    {
     "name": "stdout",
     "output_type": "stream",
     "text": [
      "True\n"
     ]
    }
   ],
   "source": [
    "import os\n",
    "dir = os.listdir(r\"C:\\Users\\zhatz\\Documents\\GitHub\\YoutubeAutomation\\Videos\")\n",
    "if \"mr.memes088-7281709837354814753.mp4\" in dir:\n",
    "    print(\"True\")"
   ]
  },
  {
   "cell_type": "code",
   "execution_count": 4,
   "metadata": {},
   "outputs": [
    {
     "data": {
      "text/plain": [
       "'video_script.txt'"
      ]
     },
     "execution_count": 4,
     "metadata": {},
     "output_type": "execute_result"
    }
   ],
   "source": [
    "from pathlib import Path\n",
    "parent_dir = Path.cwd().parent\n",
    "test_path = parent_dir / \"text/video_script.txt\"\n",
    "test_path.name"
   ]
  },
  {
   "cell_type": "code",
   "execution_count": null,
   "metadata": {},
   "outputs": [],
   "source": []
  }
 ],
 "metadata": {
  "kernelspec": {
   "display_name": ".venv",
   "language": "python",
   "name": "python3"
  },
  "language_info": {
   "codemirror_mode": {
    "name": "ipython",
    "version": 3
   },
   "file_extension": ".py",
   "mimetype": "text/x-python",
   "name": "python",
   "nbconvert_exporter": "python",
   "pygments_lexer": "ipython3",
   "version": "3.11.1"
  }
 },
 "nbformat": 4,
 "nbformat_minor": 2
}
